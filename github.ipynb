{
 "cells": [
  {
   "cell_type": "code",
   "execution_count": 1,
   "metadata": {},
   "outputs": [],
   "source": [
    "from find_by_branch import search_repos_by_branch"
   ]
  },
  {
   "cell_type": "code",
   "execution_count": 2,
   "metadata": {},
   "outputs": [
    {
     "name": "stdout",
     "output_type": "stream",
     "text": [
      "Processing repo 1 of 193\n",
      "Processing repo 11 of 193\n",
      "Processing repo 21 of 193\n",
      "Processing repo 31 of 193\n",
      "Processing repo 41 of 193\n",
      "Processing repo 51 of 193\n",
      "Processing repo 61 of 193\n",
      "Processing repo 71 of 193\n",
      "Processing repo 81 of 193\n",
      "Processing repo 91 of 193\n",
      "Processing repo 101 of 193\n",
      "Processing repo 111 of 193\n",
      "Processing repo 121 of 193\n",
      "Processing repo 131 of 193\n",
      "Processing repo 141 of 193\n",
      "Processing repo 151 of 193\n",
      "Processing repo 161 of 193\n",
      "Processing repo 171 of 193\n",
      "Processing repo 181 of 193\n",
      "Processing repo 191 of 193\n"
     ]
    }
   ],
   "source": [
    "result = search_repos_by_branch(\"Splitit\", \"hotfix/develop/remove-payfac\")"
   ]
  },
  {
   "cell_type": "code",
   "execution_count": 4,
   "metadata": {},
   "outputs": [
    {
     "name": "stdout",
     "output_type": "stream",
     "text": [
      "Splitit.Core,https://github.com/Splitit/Splitit.Core/tree/hotfix/develop/remove-payfac\n",
      "Splitit.Web.Api,https://github.com/Splitit/Splitit.Web.Api/tree/hotfix/develop/remove-payfac\n",
      "Splitit.Administration,https://github.com/Splitit/Splitit.Administration/tree/hotfix/develop/remove-payfac\n",
      "Splitit.Reports.Api,https://github.com/Splitit/Splitit.Reports.Api/tree/hotfix/develop/remove-payfac\n",
      "Splitit.Components.EventDispatcher,https://github.com/Splitit/Splitit.Components.EventDispatcher/tree/hotfix/develop/remove-payfac\n",
      "Splitit.Web.Api.Admin,https://github.com/Splitit/Splitit.Web.Api.Admin/tree/hotfix/develop/remove-payfac\n",
      "Splitit.Web.Api.V15,https://github.com/Splitit/Splitit.Web.Api.V15/tree/hotfix/develop/remove-payfac\n"
     ]
    }
   ],
   "source": [
    "for repo in result:\n",
    "    print(f\"{repo.name},https://github.com/Splitit/{repo.name}/tree/hotfix/develop/remove-payfac\")"
   ]
  }
 ],
 "metadata": {
  "kernelspec": {
   "display_name": "venv",
   "language": "python",
   "name": "python3"
  },
  "language_info": {
   "codemirror_mode": {
    "name": "ipython",
    "version": 3
   },
   "file_extension": ".py",
   "mimetype": "text/x-python",
   "name": "python",
   "nbconvert_exporter": "python",
   "pygments_lexer": "ipython3",
   "version": "3.12.2"
  }
 },
 "nbformat": 4,
 "nbformat_minor": 2
}

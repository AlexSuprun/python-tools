{
 "cells": [
  {
   "cell_type": "code",
   "execution_count": 1,
   "metadata": {},
   "outputs": [],
   "source": [
    "from find_all_my_prs import get_open_pull_requests, save_to_temp_csv"
   ]
  },
  {
   "cell_type": "code",
   "execution_count": 2,
   "metadata": {},
   "outputs": [
    {
     "name": "stdout",
     "output_type": "stream",
     "text": [
      "Processing 1 of 193\n",
      "Processing 11 of 193\n",
      "Processing 21 of 193\n",
      "Processing 31 of 193\n",
      "Processing 41 of 193\n",
      "Processing 51 of 193\n",
      "Processing 61 of 193\n",
      "Processing 71 of 193\n",
      "Processing 81 of 193\n",
      "Processing 91 of 193\n",
      "Processing 101 of 193\n",
      "Processing 111 of 193\n",
      "Processing 121 of 193\n",
      "Processing 131 of 193\n",
      "Processing 141 of 193\n",
      "Processing 151 of 193\n",
      "Processing 161 of 193\n",
      "Processing 171 of 193\n",
      "Processing 181 of 193\n",
      "Processing 191 of 193\n"
     ]
    }
   ],
   "source": [
    "prs = get_open_pull_requests(\"Splitit\", \"AlexSuprun\")"
   ]
  },
  {
   "cell_type": "code",
   "execution_count": 5,
   "metadata": {},
   "outputs": [],
   "source": [
    "save_to_temp_csv(prs)"
   ]
  }
 ],
 "metadata": {
  "kernelspec": {
   "display_name": "venv",
   "language": "python",
   "name": "python3"
  },
  "language_info": {
   "codemirror_mode": {
    "name": "ipython",
    "version": 3
   },
   "file_extension": ".py",
   "mimetype": "text/x-python",
   "name": "python",
   "nbconvert_exporter": "python",
   "pygments_lexer": "ipython3",
   "version": "3.12.2"
  }
 },
 "nbformat": 4,
 "nbformat_minor": 2
}

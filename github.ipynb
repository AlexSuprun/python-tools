{
 "cells": [
  {
   "cell_type": "code",
   "execution_count": 1,
   "metadata": {},
   "outputs": [],
   "source": [
    "from find_all_my_prs import get_open_pull_requests, save_to_temp_csv"
   ]
  },
  {
   "cell_type": "code",
   "execution_count": 2,
   "metadata": {},
   "outputs": [
    {
     "name": "stdout",
     "output_type": "stream",
     "text": [
      "Processing 1 of 193\n",
      "Processing 11 of 193\n",
      "Processing 21 of 193\n",
      "Processing 31 of 193\n",
      "Processing 41 of 193\n",
      "Processing 51 of 193\n",
      "Processing 61 of 193\n",
      "Processing 71 of 193\n",
      "Processing 81 of 193\n",
      "Processing 91 of 193\n",
      "Processing 101 of 193\n",
      "Processing 111 of 193\n",
      "Processing 121 of 193\n",
      "Processing 131 of 193\n",
      "Processing 141 of 193\n",
      "Processing 151 of 193\n",
      "Processing 161 of 193\n",
      "Processing 171 of 193\n",
      "Processing 181 of 193\n",
      "Processing 191 of 193\n"
     ]
    }
   ],
   "source": [
    "prs = get_open_pull_requests(\"Splitit\", \"AlexSuprun\")"
   ]
  },
  {
   "cell_type": "code",
   "execution_count": 4,
   "metadata": {},
   "outputs": [
    {
     "name": "stdout",
     "output_type": "stream",
     "text": [
      "Splitit.Core Remove PayFac functionality AlexSuprun open https://github.com/Splitit/Splitit.Core/pull/3857 https://github.com/Splitit/Splitit.Core/pull/3857.diff\n",
      "Splitit.Web.Api Remove ElasticSearch nuget AlexSuprun open https://github.com/Splitit/Splitit.Web.Api/pull/550 https://github.com/Splitit/Splitit.Web.Api/pull/550.diff\n",
      "Splitit.Administration Remove PayFac AlexSuprun open https://github.com/Splitit/Splitit.Administration/pull/651 https://github.com/Splitit/Splitit.Administration/pull/651.diff\n",
      "Splitit.Tests Remove PayFac references AlexSuprun open https://github.com/Splitit/Splitit.Tests/pull/548 https://github.com/Splitit/Splitit.Tests/pull/548.diff\n",
      "Splitit.Reports.Api Remove PayFac AlexSuprun open https://github.com/Splitit/Splitit.Reports.Api/pull/673 https://github.com/Splitit/Splitit.Reports.Api/pull/673.diff\n",
      "Splitit.Components.EventDispatcher Remove PayFac AlexSuprun open https://github.com/Splitit/Splitit.Components.EventDispatcher/pull/761 https://github.com/Splitit/Splitit.Components.EventDispatcher/pull/761.diff\n",
      "Splitit.Web.Api.Admin Hotfix/develop/remove payfac AlexSuprun open https://github.com/Splitit/Splitit.Web.Api.Admin/pull/1128 https://github.com/Splitit/Splitit.Web.Api.Admin/pull/1128.diff\n",
      "Splitit.Web.Api.V15 Remove ElasticSearch project from solution AlexSuprun open https://github.com/Splitit/Splitit.Web.Api.V15/pull/347 https://github.com/Splitit/Splitit.Web.Api.V15/pull/347.diff\n"
     ]
    }
   ],
   "source": [
    "for pr in prs:\n",
    "    print(pr[0], pr[1].title, pr[1].user.login, pr[1].state, pr[1].html_url, pr[1].diff_url)"
   ]
  }
 ],
 "metadata": {
  "kernelspec": {
   "display_name": "venv",
   "language": "python",
   "name": "python3"
  },
  "language_info": {
   "codemirror_mode": {
    "name": "ipython",
    "version": 3
   },
   "file_extension": ".py",
   "mimetype": "text/x-python",
   "name": "python",
   "nbconvert_exporter": "python",
   "pygments_lexer": "ipython3",
   "version": "3.12.2"
  }
 },
 "nbformat": 4,
 "nbformat_minor": 2
}
